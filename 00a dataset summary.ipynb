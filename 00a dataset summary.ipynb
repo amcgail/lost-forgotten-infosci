{
 "cells": [
  {
   "cell_type": "code",
   "execution_count": 1,
   "metadata": {},
   "outputs": [],
   "source": [
    "from knowknow import *"
   ]
  },
  {
   "cell_type": "code",
   "execution_count": 2,
   "metadata": {},
   "outputs": [
    {
     "name": "stdout",
     "output_type": "stream",
     "text": [
      "loading variable infosci-wos-all/_attributes from disk\n",
      "loading variable infosci-wos-all/groups from disk\n"
     ]
    }
   ],
   "source": [
    "dball = Dataset('infosci-wos-all')"
   ]
  },
  {
   "cell_type": "code",
   "execution_count": 3,
   "metadata": {},
   "outputs": [
    {
     "name": "stdout",
     "output_type": "stream",
     "text": [
      "loading variable infosci-wos-filtered/_attributes from disk\n",
      "loading variable infosci-wos-filtered/groups from disk\n",
      "loading variable infosci-wos-filtered/group_reps from disk\n"
     ]
    }
   ],
   "source": [
    "db2 = Dataset('infosci-wos-filtered')"
   ]
  },
  {
   "cell_type": "code",
   "execution_count": 4,
   "metadata": {},
   "outputs": [
    {
     "name": "stdout",
     "output_type": "stream",
     "text": [
      "loading variable infosci-wos-filtered-grouped/_attributes from disk\n",
      "loading variable infosci-wos-filtered-grouped/groups from disk\n",
      "loading variable infosci-wos-filtered-grouped/group_reps from disk\n"
     ]
    }
   ],
   "source": [
    "db = Dataset('infosci-wos-filtered-grouped')"
   ]
  },
  {
   "cell_type": "code",
   "execution_count": 5,
   "metadata": {},
   "outputs": [],
   "source": [
    "db.set_attribute('RELIABLE_DATA_STARTS_HERE', 1900)\n",
    "db2.set_attribute('RELIABLE_DATA_STARTS_HERE', 1900)\n",
    "dball.set_attribute('RELIABLE_DATA_STARTS_HERE', 1900)"
   ]
  },
  {
   "cell_type": "markdown",
   "metadata": {},
   "source": [
    "# more uncategorized analysis"
   ]
  },
  {
   "cell_type": "code",
   "execution_count": 6,
   "metadata": {},
   "outputs": [
    {
     "name": "stdout",
     "output_type": "stream",
     "text": [
      "loading variable infosci-wos-all/ind ___ c from disk\n"
     ]
    },
    {
     "data": {
      "text/plain": [
       "['&, P.|solicitations 0707',\n",
       " \"'T, H.|1971|nucl phys b,vb 35,p167\",\n",
       " \"'T, H.|1998|am j health-syst ph,v55,p594\",\n",
       " \"'T, H.|coping crises manage\",\n",
       " '(Aka, S.|j chandr mem glob hi',\n",
       " '(Ala), A.|2009|ala counc min 2009 a,v47',\n",
       " '(Ala), A.|ala em lead progr',\n",
       " '(Ala), A.|stand lib org eq sec',\n",
       " '(Ascb), A.|san franc decl res a',\n",
       " '(Cnnic), C.|2012|29 stat rep int dev']"
      ]
     },
     "execution_count": 6,
     "metadata": {},
     "output_type": "execute_result"
    }
   ],
   "source": [
    "sorted(dball.items('c'))[:10]"
   ]
  },
  {
   "cell_type": "code",
   "execution_count": 7,
   "metadata": {},
   "outputs": [
    {
     "name": "stdout",
     "output_type": "stream",
     "text": [
      "loading variable infosci-wos-all/doc ___ c from disk\n"
     ]
    }
   ],
   "source": [
    "cc_full = dball.by('c').docs"
   ]
  },
  {
   "cell_type": "code",
   "execution_count": 8,
   "metadata": {},
   "outputs": [],
   "source": [
    "#cc = db.by('c').cits\n",
    "cc = None"
   ]
  },
  {
   "cell_type": "code",
   "execution_count": 9,
   "metadata": {},
   "outputs": [
    {
     "name": "stdout",
     "output_type": "stream",
     "text": [
      "loading variable infosci-wos-filtered/doc ___ fy from disk\n",
      "loading variable infosci-wos-filtered/ind ___ fj from disk\n"
     ]
    }
   ],
   "source": [
    "num1 = sum([1 for x,c in cc_full.items() if c == 1])\n",
    "num2 = sum([1 for x,c in cc_full.items() if c in [2,3,4]])\n",
    "num3 = sum([1 for x,c in cc_full.items() if c >= 5])\n",
    "\n",
    "total = sum([1 for x,c in cc_full.items() if c >= 1])\n",
    "total2 = sum(db2.by('fy').docs.values())\n",
    "total3 = len(db2.items('fj'))\n",
    "total4 = sum([c for x,c in cc_full.items() if c >= 1])\n",
    "\n",
    "c1 = num1/total\n",
    "c2 = num2/total\n",
    "c3 = num3/total"
   ]
  },
  {
   "cell_type": "code",
   "execution_count": 10,
   "metadata": {},
   "outputs": [
    {
     "data": {
      "text/plain": [
       "(1356326, 71987, 77, 2826689)"
      ]
     },
     "execution_count": 10,
     "metadata": {},
     "output_type": "execute_result"
    }
   ],
   "source": [
    "total,total2,total3,total4"
   ]
  },
  {
   "cell_type": "code",
   "execution_count": 11,
   "metadata": {},
   "outputs": [],
   "source": [
    "c4 = sum([c for x,c in cc_full.items() if c >= 5]) / sum(cc_full.values())"
   ]
  },
  {
   "cell_type": "code",
   "execution_count": 12,
   "metadata": {},
   "outputs": [
    {
     "data": {
      "text/plain": [
       "2629865"
      ]
     },
     "execution_count": 12,
     "metadata": {},
     "output_type": "execute_result"
    }
   ],
   "source": [
    "sum( db2.by('fj').cits.values() )"
   ]
  },
  {
   "cell_type": "code",
   "execution_count": 13,
   "metadata": {},
   "outputs": [
    {
     "name": "stdout",
     "output_type": "stream",
     "text": [
      "loading variable infosci-wos-filtered-grouped/ind ___ fj from disk\n"
     ]
    },
    {
     "data": {
      "text/plain": [
       "1073017"
      ]
     },
     "execution_count": 13,
     "metadata": {},
     "output_type": "execute_result"
    }
   ],
   "source": [
    "sum( db.by('fj').cits.values() )"
   ]
  },
  {
   "cell_type": "code",
   "execution_count": 14,
   "metadata": {},
   "outputs": [
    {
     "name": "stdout",
     "output_type": "stream",
     "text": [
      "loading variable infosci-wos-filtered-grouped/ind ___ fy from disk\n"
     ]
    }
   ],
   "source": [
    "first = min(yy for (yy,),c in db.by('fy').cits.items() if c>0)\n",
    "last = max(yy for (yy,),c in db.by('fy').cits.items() if c>0)"
   ]
  },
  {
   "cell_type": "code",
   "execution_count": 15,
   "metadata": {},
   "outputs": [
    {
     "data": {
      "text/markdown": [
       "\n",
       "\n",
       "Within the 77 library and information science journals which are indexed continuously by WoS (see Appendix B), \n",
       "    I have citations from 71,987 articles published between 1946 and 2022, \n",
       "    2.8M citations in all. \n",
       "Of the 1.4M distinct cited works cited in these articles, \n",
       "    76% received only a single citation, \n",
       "    18% received between 2 and 4 citations, \n",
       "    and 6% received at least 5 citations. \n",
       "However, 42% of citations are to the 7% of cited works which receive at least 5 citations. \n",
       "Typographic errors, alternate spellings, smudges of ink, and quirks of the algorithm \n",
       "    will register as a totally separate cited work, \n",
       "    so this number of once-cited works is an overestimate. \n",
       "But if it is even remotely accurate, \n",
       "    it shows that the relatively uncited get about as much attention as the relatively cited. \n",
       "    \n",
       "In the rest of this paper I focus only on cited works that received at least 5 citations total, \n",
       "    disregarding the totally ignored. \n"
      ],
      "text/plain": [
       "<IPython.core.display.Markdown object>"
      ]
     },
     "metadata": {},
     "output_type": "display_data"
    }
   ],
   "source": [
    "display(Markdown(f\"\"\"\n",
    "\n",
    "Within the {len(db.by('fj').cits)} library and information science journals which are indexed continuously by WoS (see Appendix B), \n",
    "    I have citations from {total2:,} articles published between {first} and {last}, \n",
    "    {total4 / 1e6:0.1f}M citations in all. \n",
    "Of the {total / 1e6:0.1f}M distinct cited works cited in these articles, \n",
    "    {c1:.0%} received only a single citation, \n",
    "    {c2:.0%} received between 2 and 4 citations, \n",
    "    and {c3:.0%} received at least 5 citations. \n",
    "However, {c4:.0%} of citations are to the 7% of cited works which receive at least 5 citations. \n",
    "Typographic errors, alternate spellings, smudges of ink, and quirks of the algorithm \n",
    "    will register as a totally separate cited work, \n",
    "    so this number of once-cited works is an overestimate. \n",
    "But if it is even remotely accurate, \n",
    "    it shows that the relatively uncited get about as much attention as the relatively cited. \n",
    "    \n",
    "In the rest of this paper I focus only on cited works that received at least 5 citations total, \n",
    "    disregarding the totally ignored. \n",
    "\"\"\"))"
   ]
  },
  {
   "cell_type": "code",
   "execution_count": 16,
   "metadata": {},
   "outputs": [],
   "source": [
    "#display(Markdown(\"\"\"\n",
    "\"\"\"\n",
    "Of the {total:,} distinct cited works cited in {total2:,} Sociology articles in the chosen {total3:,} sociology journals,\n",
    "    {c1:.0%} ({num1:,}) received only a single citation,\n",
    "    {c2:.0%} ({num2:,}) received between 2 and 4 citations,\n",
    "    and {c3:.0%} ({num3:,}) received at least 5 citations.\n",
    "{c4:.0%} of the citations are to the {c3:.0%} which receive at least 5 citations.\n",
    "This is an underestimate, as typographic errors, alternate spellings, smudges of ink, and quirks of the algorithm \n",
    "    will register as a totally separate cited work.\n",
    "But if it's even remotely accurate, it shows that the relatively *uncited* get about as much attention as the relatively *cited*.\n",
    "In this section I focus on the *cited* (discarding any works with less than 5 citations total).\n",
    "This discards errors and one-offs.\n",
    "Typographical errors and nonstandard spellings are excluded unless these become relatively common in this context.\n",
    "And we consider only the references which have any substantive life to speak of.\n",
    "The following analysis is on the {num5:,} remaining cited works.\n",
    "\"\"\";\n",
    "#\"\"\".format(**locals())))"
   ]
  },
  {
   "cell_type": "code",
   "execution_count": 17,
   "metadata": {},
   "outputs": [
    {
     "name": "stderr",
     "output_type": "stream",
     "text": [
      "c:\\users\\amcga\\envs\\citation-deaths\\lib\\site-packages\\ipykernel_launcher.py:3: RuntimeWarning: divide by zero encountered in log\n",
      "  This is separate from the ipykernel package so we can avoid doing imports until\n"
     ]
    },
    {
     "data": {
      "image/png": "[encoded data removed]",
      "text/plain": [
       "<Figure size 432x288 with 1 Axes>"
      ]
     },
     "metadata": {},
     "output_type": "display_data"
    }
   ],
   "source": [
    "c = db.by('fy').cits\n",
    "yrs = range(1900,2010,1)\n",
    "plt.plot(yrs, np.log([c[(y,)] for y in yrs]));"
   ]
  },
  {
   "cell_type": "code",
   "execution_count": 18,
   "metadata": {},
   "outputs": [
    {
     "name": "stdout",
     "output_type": "stream",
     "text": [
      "loading variable infosci-wos-all/ind ___ fy from disk\n"
     ]
    },
    {
     "name": "stderr",
     "output_type": "stream",
     "text": [
      "c:\\users\\amcga\\envs\\citation-deaths\\lib\\site-packages\\ipykernel_launcher.py:3: RuntimeWarning: divide by zero encountered in log\n",
      "  This is separate from the ipykernel package so we can avoid doing imports until\n"
     ]
    },
    {
     "data": {
      "image/png": "[encoded data removed]",
      "text/plain": [
       "<Figure size 432x288 with 1 Axes>"
      ]
     },
     "metadata": {},
     "output_type": "display_data"
    }
   ],
   "source": [
    "c = dball.by('fy').cits\n",
    "yrs = range(1900,2010,1)\n",
    "plt.plot(yrs, np.log([c[(y,)] for y in yrs]));"
   ]
  },
  {
   "cell_type": "markdown",
   "metadata": {},
   "source": [
    "# summary before filtering"
   ]
  },
  {
   "cell_type": "code",
   "execution_count": 19,
   "metadata": {},
   "outputs": [],
   "source": [
    "min_y = min(yy for (yy,),c in db.by('fy').cits.items() if c>0)\n",
    "max_y = max(yy for (yy,),c in db.by('fy').cits.items() if c>0)"
   ]
  },
  {
   "cell_type": "code",
   "execution_count": 20,
   "metadata": {},
   "outputs": [
    {
     "name": "stdout",
     "output_type": "stream",
     "text": [
      "loading variable infosci-wos-all/doc ___ fy from disk\n",
      "loading variable infosci-wos-all/doc ___ fj from disk\n",
      "loading variable infosci-wos-filtered-grouped/doc ___ fj from disk\n",
      "loading variable infosci-wos-all/ind ___ fj from disk\n"
     ]
    }
   ],
   "source": [
    "c1 = sum( dball.by('fy').docs.values() )\n",
    "c2 = len( list(dball.by('fj').docs) )\n",
    "c3 = len( list(db.by('fj').docs) )\n",
    "\n",
    "Nclim = sum( c for (j,),c in dball.by('fj').cits.items() if j in set(db.items('fj')) )\n",
    "Ndlim = sum( c for (j,),c in dball.by('fj').docs.items() if j in set(db.items('fj')) )"
   ]
  },
  {
   "cell_type": "code",
   "execution_count": 21,
   "metadata": {},
   "outputs": [],
   "source": [
    "citN = sum( db.by('fj').cits.values() )\n",
    "citN_m = citN / 1e6\n",
    "docN = sum( db.by('fj').docs.values() )\n",
    "\n",
    "njournals = len(db.items('fj'))"
   ]
  },
  {
   "cell_type": "markdown",
   "metadata": {},
   "source": [
    "Web of Science provides a shortened version of each cited work, which attempts to generalize over reference formats, including references made in the body of the article or in footnotes, \n",
    "    as most were before broad citation format standardization in the late 1960s and early 1970s.\n",
    "Their method of shortening has changed over time, and smudges of ink or typographical errors made by authors result in inconsistencies.\n",
    "I use a grouping algorithm to identify identical references and combine them. See Appendix for details."
   ]
  },
  {
   "cell_type": "code",
   "execution_count": 22,
   "metadata": {},
   "outputs": [
    {
     "data": {
      "text/markdown": [
       "\n",
       "(unused)\n",
       "As of April 2020, there were 78,664 journal articles indexed by Web of Science in the category \"Sociology,\" distributed across 88 journals.\n",
       "I limit my focus here to the journals which consistently publish library and information science articles with references Web of Science is able to extract.\n",
       "I also exclude journals which were founded after 1995 or which end before 2015.\n",
       "This leaves 77 journals, containing 71,987 articles published between 1946 and 2022, and 2,629,865 total citations.\n"
      ],
      "text/plain": [
       "<IPython.core.display.Markdown object>"
      ]
     },
     "metadata": {},
     "output_type": "display_data"
    }
   ],
   "source": [
    "display(Markdown(\"\"\"\n",
    "(unused)\n",
    "As of April 2020, there were {c1:,} journal articles indexed by Web of Science in the category \"Sociology,\" distributed across {c2:,} journals.\n",
    "I limit my focus here to the journals which consistently publish library and information science articles with references Web of Science is able to extract.\n",
    "I also exclude journals which were founded after 1995 or which end before 2015.\n",
    "This leaves {c3:,} journals, containing {Ndlim:,} articles published between {min_y} and {max_y}, and {Nclim:,} total citations.\n",
    "\"\"\".format(**locals())))"
   ]
  },
  {
   "cell_type": "code",
   "execution_count": 23,
   "metadata": {},
   "outputs": [
    {
     "name": "stdout",
     "output_type": "stream",
     "text": [
      "loading variable infosci-wos-filtered-grouped/doc ___ fa from disk\n",
      "loading variable infosci-wos-filtered-grouped/doc ___ ta from disk\n",
      "loading variable infosci-wos-filtered-grouped/doc ___ c from disk\n"
     ]
    }
   ],
   "source": [
    "wauthAve = sum( db.by('fa').docs.values() ) / docN\n",
    "cauthAve = sum( db.by('ta').docs.values() ) / docN\n",
    "cworkAve = sum( db.by('c').docs.values() ) / docN"
   ]
  },
  {
   "cell_type": "code",
   "execution_count": 24,
   "metadata": {},
   "outputs": [
    {
     "name": "stdout",
     "output_type": "stream",
     "text": [
      "loading variable infosci-wos-filtered-grouped/ind ___ c from disk\n",
      "loading variable infosci-wos-filtered-grouped/ind ___ fa from disk\n",
      "loading variable infosci-wos-filtered-grouped/ind ___ ffa from disk\n",
      "loading variable infosci-wos-filtered-grouped/ind ___ ta from disk\n"
     ]
    }
   ],
   "source": [
    "cN = len(db.items('c'))\n",
    "faN = len(db.items('fa'))\n",
    "ffaN = len(db.items('ffa'))\n",
    "taN = len(db.items('ta'))"
   ]
  },
  {
   "cell_type": "code",
   "execution_count": 25,
   "metadata": {},
   "outputs": [
    {
     "data": {
      "text/markdown": [
       "\n",
       "(unused) After filtering journals with incomplete or limited data, \n",
       "    grouping cited reference strings by their textual similarity, \n",
       "    and ignoring cited works which receive less than five citations total, \n",
       "    I was left with 62,288 journal articles and 1.1M citations. \n",
       "Across all articles, \n",
       "    there are on average 2.62 writing authors, \n",
       "        15.10 cited authors, \n",
       "        and 17.09 cited works. \n",
       "In total there were \n",
       "    72,602 cited works, \n",
       "    30,463 cited authors, and \n",
       "    67,898 writing authors \n",
       "    (31,122 first authors). \n"
      ],
      "text/plain": [
       "<IPython.core.display.Markdown object>"
      ]
     },
     "metadata": {},
     "output_type": "display_data"
    }
   ],
   "source": [
    "display(Markdown(\"\"\"\n",
    "(unused) After filtering journals with incomplete or limited data, \n",
    "    grouping cited reference strings by their textual similarity, \n",
    "    and ignoring cited works which receive less than five citations total, \n",
    "    I was left with {docN:,} journal articles and {citN_m:0.1f}M citations. \n",
    "Across all articles, \n",
    "    there are on average {wauthAve:0.2f} writing authors, \n",
    "        {cauthAve:0.2f} cited authors, \n",
    "        and {cworkAve:0.2f} cited works. \n",
    "In total there were \n",
    "    {cN:,} cited works, \n",
    "    {taN:,} cited authors, and \n",
    "    {faN:,} writing authors \n",
    "    ({ffaN:,} first authors). \n",
    "\"\"\".format(**locals())))"
   ]
  },
  {
   "cell_type": "code",
   "execution_count": 26,
   "metadata": {},
   "outputs": [],
   "source": [
    "c = db.by('fj').cits\n",
    "d = db.by('fj').docs\n",
    "jmax = max(db.items('fj'), key=lambda x:c[(x,)]/d[(x,)])\n",
    "jmin = min(db.items('fj'), key=lambda x:c[(x,)]/d[(x,)])"
   ]
  },
  {
   "cell_type": "code",
   "execution_count": 29,
   "metadata": {},
   "outputs": [],
   "source": [
    "st_ave = db(fj=jmax).cits / db(fj=jmax).docs\n",
    "soc_ave = db(fj=jmin).cits / db(fj=jmin).docs"
   ]
  },
  {
   "cell_type": "code",
   "execution_count": 30,
   "metadata": {},
   "outputs": [],
   "source": [
    "top5 = sorted( db.items('fj'), key=lambda x: -db(fj=x).cits )[:5]"
   ]
  },
  {
   "cell_type": "code",
   "execution_count": 31,
   "metadata": {},
   "outputs": [],
   "source": [
    "top5str = [\"*{}* ({})\".format(x.title(), db(fj=x).cits) for x in top5]\n",
    "top5str = \", \".join(top5str[:-1]) + \", and \" + top5str[-1]\n",
    "top5prop = sum( db(fj=x).cits for x in top5 ) / sum( db(fj=x).cits for x in db.items('fj') )\n",
    "top5propd = sum( db(fj=x).docs for x in top5 ) / sum( db(fj=x).docs for x in db.items('fj') )"
   ]
  },
  {
   "cell_type": "code",
   "execution_count": 34,
   "metadata": {},
   "outputs": [
    {
     "data": {
      "text/markdown": [
       "\n",
       "*Journal Of The Association For Information Systems* produces the most citations per article, at 49.1. \n",
       "Meanwhile *Scientist* produces just 1.3 citations per article. \n",
       "Web of Science provides the most citations for the journals *Scientometrics* (93773), *Information & Management* (56828), *International Journal Of Information Management* (47820), *Mis Quarterly* (46720), and *Journal Of Knowledge Management* (36688). \n",
       "Together these five journals comprise 26% of all citations (18% of documents) in this dataset.\n"
      ],
      "text/plain": [
       "<IPython.core.display.Markdown object>"
      ]
     },
     "metadata": {},
     "output_type": "display_data"
    }
   ],
   "source": [
    "display(Markdown(f\"\"\"\n",
    "*{jmax.title()}* produces the most citations per article, at {st_ave:0.1f}. \n",
    "Meanwhile *{jmin.title()}* produces just {soc_ave:0.1f} citations per article. \n",
    "Web of Science provides the most citations for the journals {top5str}. \n",
    "Together these five journals comprise {top5prop:0.0%} of all citations ({top5propd:0.0%} of documents) in this dataset.\n",
    "\"\"\"))"
   ]
  },
  {
   "cell_type": "code",
   "execution_count": 28,
   "metadata": {},
   "outputs": [],
   "source": [
    "st = sorted( db2.items('fj'), key=lambda x: -db(fj=x).docs )\n",
    "#st = [x for x in st if x not in {'sociologia'}]\n",
    "top_N = st[0]\n",
    "top_Ny = db2(fj=top_N, fy=2020).docs\n",
    "bot_N = st[-1]\n",
    "bot_Ny = db2(fj=bot_N, fy=2020).docs"
   ]
  },
  {
   "cell_type": "code",
   "execution_count": 29,
   "metadata": {},
   "outputs": [
    {
     "data": {
      "text/markdown": [
       "*Scientometrics* published 385 papers in 2020, while *Journal Of The Australian Library And Information Association* published just 27"
      ],
      "text/plain": [
       "<IPython.core.display.Markdown object>"
      ]
     },
     "metadata": {},
     "output_type": "display_data"
    }
   ],
   "source": [
    "display(Markdown(f\"*{top_N.title()}* published {top_Ny} papers in 2020, while *{bot_N.title()}* published just {bot_Ny}\"))"
   ]
  },
  {
   "cell_type": "code",
   "execution_count": 30,
   "metadata": {},
   "outputs": [],
   "source": [
    "d50 = sum( db(fy=YY).docs for YY in range(1950,1960) )\n",
    "c50 = sum( db(fy=YY).cits for YY in range(1950,1960) )\n",
    "cd50 = c50/d50\n",
    "j50 = len(set( fj for (fj,fy),c in db.by('fj','fy').cits.items() if c > 0 and fy in range(1950,1960) ))\n",
    "\n",
    "\n",
    "d00 = sum( db(fy=YY).docs for YY in range(2000,2010) )\n",
    "c00 = sum( db(fy=YY).cits for YY in range(2000,2010) )\n",
    "cd00 = c00/d00\n",
    "j00 = len(set( fj for (fj,fy),c in db.by('fj','fy').cits.items() if c > 0 and fy in range(2000,2010) ))\n",
    "\n",
    "d2019 = db(fy=2019).docs"
   ]
  },
  {
   "cell_type": "code",
   "execution_count": 11,
   "metadata": {},
   "outputs": [
    {
     "data": {
      "text/markdown": [
       "\n",
       "(unused) Only 116 articles were published in 6 journals from 1950-1959 (2.1 citations per article),\n",
       "    compared to 13,410 articles in 67 journals from 2000-2009 (13.9 citations per article).\n",
       "In 2019 alone there were 3,663 articles published.\n"
      ],
      "text/plain": [
       "<IPython.core.display.Markdown object>"
      ]
     },
     "metadata": {},
     "output_type": "display_data"
    }
   ],
   "source": [
    "display(Markdown(\"\"\"\n",
    "(unused) Only {d50:,} articles were published in {j50:,} journals from 1950-1959 ({cd50:0.1f} citations per article),\n",
    "    compared to {d00:,} articles in {j00:,} journals from 2000-2009 ({cd00:0.1f} citations per article).\n",
    "In 2019 alone there were {d2019:,} articles published.\n",
    "\"\"\".format(**locals())))"
   ]
  },
  {
   "cell_type": "markdown",
   "metadata": {},
   "source": [
    "# citing authors"
   ]
  },
  {
   "cell_type": "code",
   "execution_count": 12,
   "metadata": {},
   "outputs": [
    {
     "name": "stdout",
     "output_type": "stream",
     "text": [
      "loading variable infosci-wos-filtered-grouped/doc ___ fa from disk\n",
      "loading variable infosci-wos-filtered-grouped/ind ___ fa from disk\n"
     ]
    }
   ],
   "source": [
    "fc = db.by('fa').docs\n",
    "\n",
    "num1 = len(db.items('fa'))\n",
    "num2 = len([_ for (a,),c in fc.items() if c == 1])\n",
    "p2 = num2 / num1\n",
    "\n",
    "an = sorted(fc.items(), key=lambda x:-x[1])\n",
    "an = an[:10]\n",
    "def transa(x):\n",
    "    (x,),c = x\n",
    "    x = x.split(\", \")\n",
    "    return (x[1]+\". \"+x[0]).title() + \" (%s)\"%c\n",
    "an = [transa(x) for x in an]\n",
    "an = \", \".join(an[:-1]) + \" and \" + an[-1]"
   ]
  },
  {
   "cell_type": "code",
   "execution_count": 13,
   "metadata": {},
   "outputs": [
    {
     "data": {
      "text/plain": [
       "683"
      ]
     },
     "execution_count": 13,
     "metadata": {},
     "output_type": "execute_result"
    }
   ],
   "source": [
    "len([y for y in fc.values() if y>20])"
   ]
  },
  {
   "cell_type": "code",
   "execution_count": 14,
   "metadata": {},
   "outputs": [],
   "source": [
    "num3 = len([_ for (a,),c in fc.items() if c >20])\n",
    "num4 = len([_ for (a,),c in fc.items() if c >40])"
   ]
  },
  {
   "cell_type": "code",
   "execution_count": 15,
   "metadata": {},
   "outputs": [
    {
     "data": {
      "text/markdown": [
       "\n",
       "Of the 67,898 authors who published in this context, 44,821 only published a single time (66%).\n",
       "683 authors have published more than 20 papers, and just 199 published more than 40.\n",
       "The top ten publishing first authors are Y. Chen (267), J. Lee (242), M. Thelwall (230), Y. Zhang (215), Y. Wang (213), J. Kim (211), Y. Liu (210), S. Kim (201), X. Li (193) and S. Lee (179).\n",
       "It is no accident that \"Smith\" shows up regularly in this list, a reminder that author names are not disambiguated.\n"
      ],
      "text/plain": [
       "<IPython.core.display.Markdown object>"
      ]
     },
     "metadata": {},
     "output_type": "display_data"
    }
   ],
   "source": [
    "display(Markdown(\"\"\"\n",
    "Of the {num1:,} authors who published in this context, {num2:,} only published a single time ({p2:0.0%}).\n",
    "{num3:,} authors have published more than 20 papers, and just {num4:,} published more than 40.\n",
    "The top ten publishing first authors are {an}.\n",
    "It is no accident that \"Smith\" shows up regularly in this list, a reminder that author names are not disambiguated.\n",
    "\"\"\".format(**locals())))"
   ]
  },
  {
   "cell_type": "code",
   "execution_count": 19,
   "metadata": {},
   "outputs": [
    {
     "data": {
      "image/png": "[encoded data removed]",
      "text/plain": [
       "<Figure size 432x288 with 1 Axes>"
      ]
     },
     "metadata": {},
     "output_type": "display_data"
    }
   ],
   "source": [
    "plt.hist(fc.values(), bins=50);\n",
    "plt.yscale('log')"
   ]
  },
  {
   "cell_type": "markdown",
   "metadata": {},
   "source": [
    "# cited authors"
   ]
  },
  {
   "cell_type": "code",
   "execution_count": 20,
   "metadata": {},
   "outputs": [
    {
     "name": "stdout",
     "output_type": "stream",
     "text": [
      "loading variable infosci-wos-filtered-grouped/doc ___ ta from disk\n",
      "loading variable infosci-wos-filtered-grouped/ind ___ ta from disk\n"
     ]
    }
   ],
   "source": [
    "fc = db.by('ta').docs\n",
    "\n",
    "num1 = len(db.items('ta'))\n",
    "num2 = len([_ for (a,),c in fc.items() if c == 5])\n",
    "p2 = num2 / num1\n",
    "\n",
    "an = sorted(fc.items(), key=lambda x:-x[1])\n",
    "an = an[:20]\n",
    "def transa(x):\n",
    "    (x,),c = x\n",
    "    x = x.split(\", \")\n",
    "    return (x[1]+\" \"+x[0]).title() + \" (%s citations)\"%c\n",
    "    #return (x[1]+\" \"+x[0]).title() + \" ({:,} citations)\".format(c)\n",
    "an = [transa(x) for x in an]\n",
    "an = \", \".join(an[:-1]) + \" and \" + an[-1]"
   ]
  },
  {
   "cell_type": "code",
   "execution_count": 21,
   "metadata": {},
   "outputs": [],
   "source": [
    "num3 = len([_ for (a,),c in fc.items() if c >100])\n",
    "p3 = num3/num1\n",
    "num4 = len([_ for (a,),c in fc.items() if c >1000])\n",
    "p4 = num4/num1"
   ]
  },
  {
   "cell_type": "code",
   "execution_count": 22,
   "metadata": {},
   "outputs": [
    {
     "data": {
      "text/markdown": [
       "\n",
       "I have already filtered cited works with less than five citations, so all 30,463 cited authors in this dataset have at least five citations.\n",
       "Of these, 4,660 (15%) were cited less than 10 times, 1,713 (6%) were cited at least 100 times and 40 were cited at least 1000 times in this dataset.\n",
       "The top authors cited in this dataset were C. Fornell (2422 citations), J. Hair (2345 citations), V. Venkatesh (2204 citations), D. Van (2141 citations), F. Davis (2086 citations), E. Garfield (1861 citations), W. Orlikowski (1737 citations), P. Podsakoff (1728 citations), W. Chin (1721 citations), D. Gefen (1590 citations), T. Davenport (1551 citations), L. Leydesdorff (1542 citations), W. Glanzel (1537 citations), R. Yin (1461 citations), I. Nonaka (1457 citations), M. Porter (1433 citations), K. Eisenhardt (1433 citations), I. Ajzen (1415 citations), E. Rogers (1401 citations) and J. Nunnally (1356 citations).\n"
      ],
      "text/plain": [
       "<IPython.core.display.Markdown object>"
      ]
     },
     "metadata": {},
     "output_type": "display_data"
    }
   ],
   "source": [
    "display(Markdown(\"\"\"\n",
    "I have already filtered cited works with less than five citations, so all {num1:,} cited authors in this dataset have at least five citations.\n",
    "Of these, {num2:,} ({p2:0.0%}) were cited less than 10 times, {num3:,} ({p3:0.0%}) were cited at least 100 times and {num4} were cited at least 1000 times in this dataset.\n",
    "The top authors cited in this dataset were {an}.\n",
    "\"\"\".format(**locals())))"
   ]
  },
  {
   "cell_type": "markdown",
   "metadata": {},
   "source": [
    "# cited works"
   ]
  },
  {
   "cell_type": "code",
   "execution_count": 31,
   "metadata": {},
   "outputs": [
    {
     "name": "stdout",
     "output_type": "stream",
     "text": [
      "Fornell, C. - j marketing res,v18,p39\n",
      "Davis, F. - mis quart,v13,p319\n",
      "Podsakoff, P. - j appl psychol,v88,p879\n",
      "Hair, J. - multivariate data an\n",
      "Venkatesh, V. - mis quart,v27,p425\n",
      "Glaser, B. - discovery grounded t\n",
      "Rogers, E. - diffusion innovation\n",
      "Yin, R. - case study res desig\n",
      "Hirsch, J. - p natl acad sci usa,v102,p16569\n",
      "Eisenhardt, K. - acad manage rev,v14,p532\n"
     ]
    }
   ],
   "source": [
    "fc = db.by('c').docs\n",
    "\n",
    "num1 = len(db.items('c'))\n",
    "num2 = len([_ for (a,),c in fc.items() if c == 5])\n",
    "p2 = num2 / num1\n",
    "\n",
    "an = sorted(fc.items(), key=lambda x:-x[1])\n",
    "an = an[:10]\n",
    "def transa(x):\n",
    "    (x,),c = x\n",
    "    x = x.split(\"|\")\n",
    "    if len(x)==2:\n",
    "        a,w = x\n",
    "        #return (\"%s (??)\"%a).title() + \" (%s citations)\"%c\n",
    "    elif len(x)==3:\n",
    "        a,y,w = x\n",
    "        #return (\"%s (%s)\"%(a,y)).title() + \" (%s citations)\"%c\n",
    "    print (a, \"-\", w)\n",
    "    a = a.split(\",\")[0]\n",
    "    a = a.title()\n",
    "    a = a+\"'s\"\n",
    "    \n",
    "    w = w.title()\n",
    "    return (\"%s *%s* (%s)\"%(a,w,c))\n",
    "    #return (x[1]+\" \"+x[0]).title() + \" ({:,} citations)\".format(c)\n",
    "an = [transa(x) for x in an]\n",
    "an = \", \".join(an[:-1]) + \" and \" + an[-1]"
   ]
  },
  {
   "cell_type": "code",
   "execution_count": 32,
   "metadata": {},
   "outputs": [],
   "source": [
    "num3 = len([_ for (a,),c in fc.items() if c >100])\n",
    "p3 = num3/num1\n",
    "num4 = len([_ for (a,),c in fc.items() if c >1000])\n",
    "p4 = num4/num1"
   ]
  },
  {
   "cell_type": "code",
   "execution_count": 33,
   "metadata": {},
   "outputs": [
    {
     "data": {
      "text/markdown": [
       "\n",
       "All 72,602 cited works in this dataset have at least five citations.\n",
       "Of these, 13,174 (18%) were cited less than 10 times, 815 (1%) were cited at least 100 times and 9 were cited at least 1000 times in this dataset.\n",
       "The top cited works in this dataset were Fornell's *J Marketing Res,V18,P39* (2237), Davis's *Mis Quart,V13,P319* (1594), Podsakoff's *J Appl Psychol,V88,P879* (1362), Hair's *Multivariate Data An* (1297), Venkatesh's *Mis Quart,V27,P425* (1241), Glaser's *Discovery Grounded T* (1202), Rogers's *Diffusion Innovation* (1166), Yin's *Case Study Res Desig* (1085), Hirsch's *P Natl Acad Sci Usa,V102,P16569* (1084) and Eisenhardt's *Acad Manage Rev,V14,P532* (952).\n"
      ],
      "text/plain": [
       "<IPython.core.display.Markdown object>"
      ]
     },
     "metadata": {},
     "output_type": "display_data"
    }
   ],
   "source": [
    "display(Markdown(\"\"\"\n",
    "All {num1:,} cited works in this dataset have at least five citations.\n",
    "Of these, {num2:,} ({p2:0.0%}) were cited less than 10 times, {num3:,} ({p3:0.0%}) were cited at least 100 times and {num4} were cited at least 1000 times in this dataset.\n",
    "The top cited works in this dataset were {an}.\n",
    "\"\"\".format(**locals())))"
   ]
  }
 ],
 "metadata": {
  "kernelspec": {
   "display_name": "Python 3",
   "language": "python",
   "name": "python3"
  },
  "language_info": {
   "codemirror_mode": {
    "name": "ipython",
    "version": 3
   },
   "file_extension": ".py",
   "mimetype": "text/x-python",
   "name": "python",
   "nbconvert_exporter": "python",
   "pygments_lexer": "ipython3",
   "version": "3.7.5"
  },
  "toc-showmarkdowntxt": true
 },
 "nbformat": 4,
 "nbformat_minor": 4
}
